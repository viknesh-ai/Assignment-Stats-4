{
 "cells": [
  {
   "cell_type": "markdown",
   "metadata": {},
   "source": []
  },
  {
   "cell_type": "markdown",
   "metadata": {},
   "source": [
    "<b>Problem Statement 1: </b>Is gender independent of education level? A random sample of 395 people were surveyed and each person was asked to report the highest education level they\n",
    "obtained. The data that resulted from the survey is summarized in the following table:\n",
    "    \n",
    "<table>\n",
    "    <tr>\n",
    "        <td></td>\n",
    "        <td>High School</td>\n",
    "        <td>Bachelors</td>\n",
    "        <td>Masters</td>\n",
    "        <td>Ph.d.</td>\n",
    "        <td>Total</td>\n",
    "    </tr>\n",
    "    <tr>\n",
    "        <td>Female</td>\n",
    "        <td>60</td>\n",
    "        <td>54</td>\n",
    "        <td>46</td>\n",
    "        <td>41</td>\n",
    "        <td>201</td>\n",
    "    </tr>\n",
    "     <tr>\n",
    "        <td>Male</td>\n",
    "        <td>40</td>\n",
    "        <td>44</td>\n",
    "        <td>53</td>\n",
    "        <td>57</td>\n",
    "        <td>194</td>   \n",
    "     </tr>\n",
    "    <tr>\n",
    "        <td>Total</td>\n",
    "        <td>100</td>\n",
    "        <td>98</td>\n",
    "        <td>99</td>\n",
    "        <td>98</td>\n",
    "        <td>395</td>   \n",
    "     </tr>\n",
    "</table>\n",
    "\n",
    "Question: Are gender and education level dependent at 5% level of significance? In other words, given the data collected above, is there a relationship between the gender of an individual and the level of education that they have obtained?\n"
   ]
  },
  {
   "cell_type": "code",
   "execution_count": null,
   "metadata": {},
   "outputs": [],
   "source": [
    "# Solution"
   ]
  },
  {
   "cell_type": "markdown",
   "metadata": {},
   "source": [
    "\n",
    "\n",
    "Problem assessment : It has been asked that , is there a relationship between is there a relationship between the gender of an individual and the level of education that they have obtained or that education level depends upon gender.        \n",
    "In order to finding the relationship between gender and education level or whether both of two variable are dependent or independent , A Hypothesis testing can be performed on provided data using \" Chi- Square test\"\n",
    "\n",
    "\n",
    "Definition : \"Chi-Square test \" or \"Chi-Square Test of Independence\" is a statistical test is used to determine whether there is a significant association between the two variables.The test is applied when you have two categorical variables from a single population. \n",
    "\n",
    "Formula : \n",
    "\n",
    "Chi-Square ( <b>Χ<sup> 2</sup></b> ) =<b> ∑(O − E )<sup> 2</sup> / E</b>\n",
    "\n",
    "Where \n",
    "O = represents the observed frequency\n",
    "E = is the expected frequency under the null hypothesis , and E can be evaluated by \n",
    "\n",
    "           E=( (row total) × (column total))/ (sample size)\n"
   ]
  },
  {
   "cell_type": "code",
   "execution_count": null,
   "metadata": {},
   "outputs": [],
   "source": [
    "# State the Hypothesis"
   ]
  },
  {
   "cell_type": "markdown",
   "metadata": {},
   "source": [
    "As per Chi-Square test of independece, the null hypothesis stats that there is no relationship exists on the categorical variables in the population; they are independent.\n",
    "\n",
    "Hence for above mentioned problem :\n",
    "    \n",
    "(Null Hypothesis) Ho: The education level and gender independent to each other.\n",
    "\n",
    "(Alternative Hypothesis)  Ha: The education level and gender dependent to each other.\n",
    "    \n",
    "    \n"
   ]
  },
  {
   "cell_type": "code",
   "execution_count": 1,
   "metadata": {},
   "outputs": [],
   "source": [
    "# level of  significance (given in problem)\n",
    "alpha= 0.05"
   ]
  },
  {
   "cell_type": "code",
   "execution_count": 2,
   "metadata": {},
   "outputs": [],
   "source": [
    "# Degree of freedom : "
   ]
  },
  {
   "cell_type": "markdown",
   "metadata": {},
   "source": [
    "Note : In Chi-Square test , degree of freedom ( df) is , for a test of independence equals the product of the number of categories in each variable minus 1 .\n",
    "       In above mentioned problem , there is 2 rows for Gender and 4 columns for eductaion level (except total colums).\n",
    "       Hence degree of freedom (df) = (2-1)*(4-1) =3\n",
    "    "
   ]
  },
  {
   "cell_type": "code",
   "execution_count": 3,
   "metadata": {},
   "outputs": [],
   "source": [
    "df=3  #degree of freedom"
   ]
  },
  {
   "cell_type": "code",
   "execution_count": 4,
   "metadata": {},
   "outputs": [],
   "source": [
    "sample_size =395 # sample size given in problem"
   ]
  },
  {
   "cell_type": "code",
   "execution_count": 5,
   "metadata": {},
   "outputs": [
    {
     "data": {
      "text/plain": [
       "[(60, 40, 100), (54, 44, 98), (46, 53, 99), (41, 57, 98), (201, 194, 395)]"
      ]
     },
     "execution_count": 5,
     "metadata": {},
     "output_type": "execute_result"
    }
   ],
   "source": [
    "# Let's gather the data \n",
    "\n",
    "list_Female=[60,54,46,41,201]  # temporary list for row of female\n",
    "list_Male=[40,44,53,57,194]     # temporary list for row of male\n",
    "list_Total=[100,98,99,98,395]    # temporary list for row of Total\n",
    "\n",
    "\n",
    "comulative_list= list(zip(list_Female,list_Male,list_Total))  # zip function to map the idividual list at their index level\n",
    "comulative_list"
   ]
  },
  {
   "cell_type": "code",
   "execution_count": 6,
   "metadata": {},
   "outputs": [
    {
     "data": {
      "text/html": [
       "<div>\n",
       "<style scoped>\n",
       "    .dataframe tbody tr th:only-of-type {\n",
       "        vertical-align: middle;\n",
       "    }\n",
       "\n",
       "    .dataframe tbody tr th {\n",
       "        vertical-align: top;\n",
       "    }\n",
       "\n",
       "    .dataframe thead th {\n",
       "        text-align: right;\n",
       "    }\n",
       "</style>\n",
       "<table border=\"1\" class=\"dataframe\">\n",
       "  <thead>\n",
       "    <tr style=\"text-align: right;\">\n",
       "      <th></th>\n",
       "      <th>0</th>\n",
       "      <th>1</th>\n",
       "      <th>2</th>\n",
       "      <th>3</th>\n",
       "      <th>4</th>\n",
       "    </tr>\n",
       "  </thead>\n",
       "  <tbody>\n",
       "    <tr>\n",
       "      <th>0</th>\n",
       "      <td>60</td>\n",
       "      <td>54</td>\n",
       "      <td>46</td>\n",
       "      <td>41</td>\n",
       "      <td>201</td>\n",
       "    </tr>\n",
       "    <tr>\n",
       "      <th>1</th>\n",
       "      <td>40</td>\n",
       "      <td>44</td>\n",
       "      <td>53</td>\n",
       "      <td>57</td>\n",
       "      <td>194</td>\n",
       "    </tr>\n",
       "    <tr>\n",
       "      <th>2</th>\n",
       "      <td>100</td>\n",
       "      <td>98</td>\n",
       "      <td>99</td>\n",
       "      <td>98</td>\n",
       "      <td>395</td>\n",
       "    </tr>\n",
       "  </tbody>\n",
       "</table>\n",
       "</div>"
      ],
      "text/plain": [
       "     0   1   2   3    4\n",
       "0   60  54  46  41  201\n",
       "1   40  44  53  57  194\n",
       "2  100  98  99  98  395"
      ]
     },
     "execution_count": 6,
     "metadata": {},
     "output_type": "execute_result"
    }
   ],
   "source": [
    "# transform the list into a pndas data farme \n",
    "import pandas as pd # pandas module import\n",
    "df_table = pd.DataFrame(comulative_list).T  # \" .T \" to tranapose the data frame or convert columns into rows\n",
    "df_table"
   ]
  },
  {
   "cell_type": "code",
   "execution_count": 7,
   "metadata": {},
   "outputs": [
    {
     "data": {
      "text/html": [
       "<div>\n",
       "<style scoped>\n",
       "    .dataframe tbody tr th:only-of-type {\n",
       "        vertical-align: middle;\n",
       "    }\n",
       "\n",
       "    .dataframe tbody tr th {\n",
       "        vertical-align: top;\n",
       "    }\n",
       "\n",
       "    .dataframe thead th {\n",
       "        text-align: right;\n",
       "    }\n",
       "</style>\n",
       "<table border=\"1\" class=\"dataframe\">\n",
       "  <thead>\n",
       "    <tr style=\"text-align: right;\">\n",
       "      <th></th>\n",
       "      <th>High School</th>\n",
       "      <th>Bachelors</th>\n",
       "      <th>Masters</th>\n",
       "      <th>Ph.d.</th>\n",
       "      <th>Total</th>\n",
       "    </tr>\n",
       "  </thead>\n",
       "  <tbody>\n",
       "    <tr>\n",
       "      <th>Female</th>\n",
       "      <td>60</td>\n",
       "      <td>54</td>\n",
       "      <td>46</td>\n",
       "      <td>41</td>\n",
       "      <td>201</td>\n",
       "    </tr>\n",
       "    <tr>\n",
       "      <th>Male</th>\n",
       "      <td>40</td>\n",
       "      <td>44</td>\n",
       "      <td>53</td>\n",
       "      <td>57</td>\n",
       "      <td>194</td>\n",
       "    </tr>\n",
       "    <tr>\n",
       "      <th>Total</th>\n",
       "      <td>100</td>\n",
       "      <td>98</td>\n",
       "      <td>99</td>\n",
       "      <td>98</td>\n",
       "      <td>395</td>\n",
       "    </tr>\n",
       "  </tbody>\n",
       "</table>\n",
       "</div>"
      ],
      "text/plain": [
       "        High School  Bachelors  Masters  Ph.d.  Total\n",
       "Female           60         54       46     41    201\n",
       "Male             40         44       53     57    194\n",
       "Total           100         98       99     98    395"
      ]
     },
     "execution_count": 7,
     "metadata": {},
     "output_type": "execute_result"
    }
   ],
   "source": [
    "# re-name dataframe  column and row-index\n",
    "\n",
    "df_table.rename(columns={0:'High School',1:'Bachelors',2:'Masters',3:'Ph.d.',4:'Total'},index={0:'Female',1:'Male',2:'Total'} , inplace=True  )\n",
    "df_table"
   ]
  },
  {
   "cell_type": "code",
   "execution_count": 8,
   "metadata": {},
   "outputs": [],
   "source": [
    "# Chi- Square Test\n",
    "\n",
    "# Formula :  Sum of (square of ( observation data- expected data) / ( expected data)) \n"
   ]
  },
  {
   "cell_type": "code",
   "execution_count": 9,
   "metadata": {},
   "outputs": [
    {
     "data": {
      "text/html": [
       "<div>\n",
       "<style scoped>\n",
       "    .dataframe tbody tr th:only-of-type {\n",
       "        vertical-align: middle;\n",
       "    }\n",
       "\n",
       "    .dataframe tbody tr th {\n",
       "        vertical-align: top;\n",
       "    }\n",
       "\n",
       "    .dataframe thead th {\n",
       "        text-align: right;\n",
       "    }\n",
       "</style>\n",
       "<table border=\"1\" class=\"dataframe\">\n",
       "  <thead>\n",
       "    <tr style=\"text-align: right;\">\n",
       "      <th></th>\n",
       "      <th>High School</th>\n",
       "      <th>Bachelors</th>\n",
       "      <th>Masters</th>\n",
       "      <th>Ph.d.</th>\n",
       "    </tr>\n",
       "  </thead>\n",
       "  <tbody>\n",
       "    <tr>\n",
       "      <th>Female</th>\n",
       "      <td>60</td>\n",
       "      <td>54</td>\n",
       "      <td>46</td>\n",
       "      <td>41</td>\n",
       "    </tr>\n",
       "    <tr>\n",
       "      <th>Male</th>\n",
       "      <td>40</td>\n",
       "      <td>44</td>\n",
       "      <td>53</td>\n",
       "      <td>57</td>\n",
       "    </tr>\n",
       "  </tbody>\n",
       "</table>\n",
       "</div>"
      ],
      "text/plain": [
       "        High School  Bachelors  Masters  Ph.d.\n",
       "Female           60         54       46     41\n",
       "Male             40         44       53     57"
      ]
     },
     "execution_count": 9,
     "metadata": {},
     "output_type": "execute_result"
    }
   ],
   "source": [
    "# calculate Observation data \n",
    "\n",
    "chi_observation= df_table.iloc[0:2,0:4]   # Slice the data frame to get data except \"Total\" from row and column, \" iloc\" to get data from position number\n",
    "chi_observation  # Observed data"
   ]
  },
  {
   "cell_type": "code",
   "execution_count": 10,
   "metadata": {},
   "outputs": [
    {
     "name": "stdout",
     "output_type": "stream",
     "text": [
      "Total's row data\n",
      " Female    201\n",
      "Male      194\n",
      "Total     395\n",
      "Name: Total, dtype: int64\n",
      "\n",
      "Total's column data\n",
      " High School    100\n",
      "Bachelors       98\n",
      "Masters         99\n",
      "Ph.d.           98\n",
      "Total          395\n",
      "Name: Total, dtype: int64\n"
     ]
    }
   ],
   "source": [
    "# calculate Expected data      i.e Sum of rows and sum of columns\n",
    "\n",
    "df_table_row=df_table[\"Total\"][0:3]  # Slice the data frame to get data \"Total\" from row \n",
    "df_table_col=df_table.loc[\"Total\"][0:5]  # Slice the data frame to get data \"Total\" from column\n",
    "\n",
    "print(\"Total's row data\\n\",df_table_row)\n",
    "print(\"\\nTotal's column data\\n\",df_table_col)"
   ]
  },
  {
   "cell_type": "code",
   "execution_count": 11,
   "metadata": {},
   "outputs": [
    {
     "data": {
      "text/plain": [
       "array([[ 50.88607595,  49.86835443,  50.37721519,  49.86835443,\n",
       "        201.        ],\n",
       "       [ 49.11392405,  48.13164557,  48.62278481,  48.13164557,\n",
       "        194.        ],\n",
       "       [100.        ,  98.        ,  99.        ,  98.        ,\n",
       "        395.        ]])"
      ]
     },
     "execution_count": 11,
     "metadata": {},
     "output_type": "execute_result"
    }
   ],
   "source": [
    "# expectd data :  which is equal >> Er,c = (nr * nc) / n\n",
    "\n",
    "# where  , if A and B are two categorical variable  then , \n",
    "# Er,c is the expected frequency count for level r of Variable A and level c of Variable B,\n",
    "# nr is the total number of sample observations at level r of Variable A, \n",
    "# nc is the total number of sample observations at level c of Variable B, \n",
    "# and n is the total sample size\n",
    "\n",
    "import numpy as np # numpy for mathematical calculation\n",
    "\n",
    "sample_size=395 # given in problem\n",
    "\n",
    "chi_expected= (np.outer(df_table_row ,df_table_col))/sample_size  # np.outer () for cross multiplication of two same/differencet size of series/array\n",
    "chi_expected"
   ]
  },
  {
   "cell_type": "code",
   "execution_count": 12,
   "metadata": {},
   "outputs": [
    {
     "data": {
      "text/html": [
       "<div>\n",
       "<style scoped>\n",
       "    .dataframe tbody tr th:only-of-type {\n",
       "        vertical-align: middle;\n",
       "    }\n",
       "\n",
       "    .dataframe tbody tr th {\n",
       "        vertical-align: top;\n",
       "    }\n",
       "\n",
       "    .dataframe thead th {\n",
       "        text-align: right;\n",
       "    }\n",
       "</style>\n",
       "<table border=\"1\" class=\"dataframe\">\n",
       "  <thead>\n",
       "    <tr style=\"text-align: right;\">\n",
       "      <th></th>\n",
       "      <th>High School</th>\n",
       "      <th>Bachelors</th>\n",
       "      <th>Masters</th>\n",
       "      <th>Ph.d.</th>\n",
       "      <th>Total</th>\n",
       "    </tr>\n",
       "  </thead>\n",
       "  <tbody>\n",
       "    <tr>\n",
       "      <th>Female</th>\n",
       "      <td>50.886076</td>\n",
       "      <td>49.868354</td>\n",
       "      <td>50.377215</td>\n",
       "      <td>49.868354</td>\n",
       "      <td>201.0</td>\n",
       "    </tr>\n",
       "    <tr>\n",
       "      <th>Male</th>\n",
       "      <td>49.113924</td>\n",
       "      <td>48.131646</td>\n",
       "      <td>48.622785</td>\n",
       "      <td>48.131646</td>\n",
       "      <td>194.0</td>\n",
       "    </tr>\n",
       "    <tr>\n",
       "      <th>Total</th>\n",
       "      <td>100.000000</td>\n",
       "      <td>98.000000</td>\n",
       "      <td>99.000000</td>\n",
       "      <td>98.000000</td>\n",
       "      <td>395.0</td>\n",
       "    </tr>\n",
       "  </tbody>\n",
       "</table>\n",
       "</div>"
      ],
      "text/plain": [
       "        High School  Bachelors    Masters      Ph.d.  Total\n",
       "Female    50.886076  49.868354  50.377215  49.868354  201.0\n",
       "Male      49.113924  48.131646  48.622785  48.131646  194.0\n",
       "Total    100.000000  98.000000  99.000000  98.000000  395.0"
      ]
     },
     "execution_count": 12,
     "metadata": {},
     "output_type": "execute_result"
    }
   ],
   "source": [
    "# Convert expected data into data frame and assign column and row-index\n",
    "\n",
    "chi_expected = pd.DataFrame(chi_expected) \n",
    "\n",
    "chi_expected.rename(columns={0:'High School',1:'Bachelors',2:'Masters',3:'Ph.d.',4:'Total'},index={0:'Female',1:'Male',2:'Total'}, inplace= True )\n",
    "\n",
    "chi_expected  # Expected data"
   ]
  },
  {
   "cell_type": "code",
   "execution_count": 13,
   "metadata": {},
   "outputs": [
    {
     "name": "stdout",
     "output_type": "stream",
     "text": [
      " Chi-Square Test Statstic value : 8.006066246262538\n"
     ]
    }
   ],
   "source": [
    "\n",
    "# Calculate chi- square stistics value\n",
    "\n",
    "chi_squared_statistics=(((chi_observation-chi_expected)**2)/chi_expected).sum().sum() # Sum() has been applied twice once to get the column sums and a second time to add the column sums together, returning the sum of the entire 2D table\n",
    "print(\" Chi-Square Test Statstic value :\", chi_squared_statistics )"
   ]
  },
  {
   "cell_type": "code",
   "execution_count": 14,
   "metadata": {},
   "outputs": [
    {
     "name": "stdout",
     "output_type": "stream",
     "text": [
      "Chi-square P value\n",
      "0.04588650089174717\n"
     ]
    }
   ],
   "source": [
    "# Calculate p-vale (probability) for Test statistics value\n",
    "\n",
    "import scipy.stats as stats\n",
    "\n",
    "df # df= degre of freedom , 3 for this problem, calcualtion has been done above.\n",
    "\n",
    "p_value = 1 - stats.chi2.cdf(chi_squared_statistics,df)    #  stats.chi2.cdf is comulative density function which defines mass of probability of the function up to a given point; what percentage of the distribution lies on one side of this point. \n",
    "print(\"Chi-square P value\")\n",
    "print(p_value)"
   ]
  },
  {
   "cell_type": "code",
   "execution_count": 16,
   "metadata": {},
   "outputs": [
    {
     "name": "stdout",
     "output_type": "stream",
     "text": [
      "Output:\n",
      " Chi-Square Test Critical value : 7.814727903251179\n"
     ]
    }
   ],
   "source": [
    "#Calculate chi-square crtical value\n",
    "alpha =0.05  # significance level , given in problem hence confidence level is 95 %\n",
    "\n",
    "\n",
    "chi_squared_statistics_critical= stats.chi2.ppf(0.95,df)\n",
    "print(\"Output:\")\n",
    "print(\" Chi-Square Test Critical value :\", chi_squared_statistics_critical )\n",
    "\n"
   ]
  },
  {
   "cell_type": "markdown",
   "metadata": {},
   "source": [
    "Result : \n",
    "The critical value of Chi-Sqaure(χ2) with 3 degree of freedom is 7.815. \n",
    "\n",
    "The test stattistics value of Chi-Sqaure(χ2) with 3 degree of freedom is 8.006. \n",
    "\n",
    "Since 8.006 > 7.815, therefore we reject the null hypothesis (Ho) and conclude that the education level depends on gender at a 5% level of significance."
   ]
  },
  {
   "cell_type": "markdown",
   "metadata": {},
   "source": [
    "-----------------------------------------------------------------------------------------------------------------------"
   ]
  },
  {
   "cell_type": "markdown",
   "metadata": {},
   "source": [
    "<b>Problem Statement 2:</b> Using the following data, perform a oneway analysis of variance using α=.05.\n",
    "Write up the results in APA format.\n",
    "\n",
    "[Group1: 51, 45, 33, 45, 67]\n",
    "\n",
    "[Group2: 23, 43, 23, 43, 45]\n",
    "\n",
    "[Group3: 56, 76, 74, 87, 56]"
   ]
  },
  {
   "cell_type": "code",
   "execution_count": 17,
   "metadata": {},
   "outputs": [],
   "source": [
    "# Solution"
   ]
  },
  {
   "cell_type": "markdown",
   "metadata": {},
   "source": [
    "Analysis of variance (ANOVA) is a statistical technique that is used to check if the means of two or more groups are significantly different from each other. ANOVA checks the impact of one or more factors by comparing the means of different samples.\n",
    "\n",
    "\n",
    "\n",
    "One way ANOVA : A one way ANOVA is used to compare two means from two independent (unrelated) groups using the F-distribution. The null hypothesis for the test is that the two means are equal. Therefore, a significant result means that the two means are unequal.\n",
    "\n",
    "The whole idea behind the analysis of variance is to compare the ratio of between group variance to within group variance. If the variance caused by the interaction between the samples is much larger when compared to the variance that appears within each group, then it is because the means aren't the same.\n",
    "\n",
    "Limitations of one-way ANOVA\n",
    "A one-way ANOVA tells us that at least two groups are different from each other. But it won’t tell us which groups are different. If  test returns a significant f-statistic, we may need to run a post-hoc test to tell us exactly which groups have a difference in means. Below I have mentioned the steps to perform one-way ANOVA in Excel along with a post-hoc test.\n",
    "\n",
    "\n",
    "\n",
    "\n",
    "\n",
    "Stages of calculating the One way Anova : (ref link : https://people.richland.edu/james/lecture/m170/ch13-1wy.html)\n",
    "\n",
    "1. Hypothesis\n",
    "2. Grand Mean Calculation\n",
    "3. Between Goup Variation\n",
    "4. Within Group Variation \n",
    "5. Total variation calculation\n",
    "6. F test statistic\n",
    "7. Summary Table\n"
   ]
  },
  {
   "cell_type": "code",
   "execution_count": 18,
   "metadata": {},
   "outputs": [],
   "source": [
    "# Stage -1 : State Hypothesis"
   ]
  },
  {
   "cell_type": "markdown",
   "metadata": {},
   "source": [
    "One way ANOVA , also has two type of Hypothesis , Null Hypothesis (H0) and Alternative Hypothesis (H1).\n",
    "The Null hypothesis in ANOVA is valid when all the sample means are equal, or they don’t have any significant difference. Thus, they can be considered as a part of a larger set of the population. On the other hand, the alternate hypothesis is valid when at least one of the sample means is different from the rest of the sample means.\n",
    "\n",
    "\n",
    "Thus  \n",
    "\n",
    "H0 = <b> μ1 = μ2 = μ3 .... = ul </b>   Null hypothesis\n",
    "\n",
    "H1 = <b>μl != μm</b>                   Alternative Hypothesis \n",
    "\n",
    "where μl , μm   belong to any two sample means out of all the samples considered for the test. "
   ]
  },
  {
   "cell_type": "code",
   "execution_count": 19,
   "metadata": {},
   "outputs": [],
   "source": [
    "# Level of significance\n",
    "\n",
    "alpha =0.05"
   ]
  },
  {
   "cell_type": "code",
   "execution_count": 22,
   "metadata": {},
   "outputs": [],
   "source": [
    "# Stage-2 : Grand Mean Calculation "
   ]
  },
  {
   "cell_type": "code",
   "execution_count": 31,
   "metadata": {},
   "outputs": [
    {
     "name": "stdout",
     "output_type": "stream",
     "text": [
      "Group_1  [51, 45, 33, 45, 67]\n",
      "Group_2  [23, 43, 23, 43, 45]\n",
      "Group_3  [56, 76, 74, 87, 56]\n"
     ]
    }
   ],
   "source": [
    "#Let's gather the data\n",
    "\n",
    "group_1 = [51, 45, 33, 45, 67]   # temp list\n",
    "group_2 = [23, 43, 23, 43, 45]   # temp list\n",
    "group_3 = [56, 76, 74, 87, 56]   # temp list\n",
    "\n",
    "print(\"Group_1 \",group_1)\n",
    "print(\"Group_2 \",group_2)\n",
    "print(\"Group_3 \",group_3)"
   ]
  },
  {
   "cell_type": "code",
   "execution_count": 32,
   "metadata": {},
   "outputs": [
    {
     "name": "stdout",
     "output_type": "stream",
     "text": [
      "Mean of group 1: 48.2\n",
      "Mean of group 2: 35.4\n",
      "Mean of group 3: 69.8\n"
     ]
    }
   ],
   "source": [
    "# Calulate the mean of mentioned data \n",
    "\n",
    "import statistics  # Statistics module for statistical calculation\n",
    "\n",
    "mean_group_1 = statistics.mean(group_1)\n",
    "mean_group_2 = statistics.mean(group_2)\n",
    "mean_group_3 = statistics.mean(group_3)\n",
    "print(\"Mean of group 1:\",mean_group_1)\n",
    "print(\"Mean of group 2:\",mean_group_2)\n",
    "print(\"Mean of group 3:\",mean_group_3)"
   ]
  },
  {
   "cell_type": "code",
   "execution_count": 33,
   "metadata": {},
   "outputs": [
    {
     "name": "stdout",
     "output_type": "stream",
     "text": [
      "Grand Mean : 51.13\n"
     ]
    }
   ],
   "source": [
    "# Calculate the Grand mean : \n",
    "\n",
    "grand_mean = statistics.mean([mean_group_1,mean_group_2,mean_group_3])\n",
    "print(\"Grand Mean :\" ,round(grand_mean,2))"
   ]
  },
  {
   "cell_type": "code",
   "execution_count": 30,
   "metadata": {},
   "outputs": [],
   "source": [
    "# Stage -3 Between-group variability or deviation between group"
   ]
  },
  {
   "cell_type": "markdown",
   "metadata": {},
   "source": [
    "<b>Between-group variability:</b> It refers to variations between the distributions of individual groups (or levels) as the values within each group are different. Each sample is looked at and the difference between its mean and grand mean is calculated to calculate the variability."
   ]
  },
  {
   "cell_type": "code",
   "execution_count": 34,
   "metadata": {},
   "outputs": [
    {
     "name": "stdout",
     "output_type": "stream",
     "text": [
      "deviation between group 1 from grand mean:  -2.93333333333333\n",
      "deviation between group 2 from grand mean:  -15.733333333333334\n",
      "deviation between group 3 from grand mean:  18.666666666666664\n"
     ]
    }
   ],
   "source": [
    "# devtion between Groups  = mean of groups - grand mean\n",
    "\n",
    "dev_between_group_1= mean_group_1 - grand_mean\n",
    "dev_between_group_2= mean_group_2 - grand_mean\n",
    "dev_between_group_3= mean_group_3 - grand_mean\n",
    "print(\"deviation between group 1 from grand mean: \",dev_between_group_1)\n",
    "print(\"deviation between group 2 from grand mean: \",dev_between_group_2)\n",
    "print(\"deviation between group 3 from grand mean: \",dev_between_group_3)\n"
   ]
  },
  {
   "cell_type": "code",
   "execution_count": 35,
   "metadata": {},
   "outputs": [
    {
     "data": {
      "text/plain": [
       "[8.604444444444425, 247.53777777777782, 348.44444444444434]"
      ]
     },
     "execution_count": 35,
     "metadata": {},
     "output_type": "execute_result"
    }
   ],
   "source": [
    "# square of devation between groups\n",
    "\n",
    "# gettting square of values for deviation between groups \n",
    "sq_dev_between_group= [x **2  for  x in [dev_between_group_1,dev_between_group_2,dev_between_group_3]] # list comprehension\n",
    "sq_dev_between_group"
   ]
  },
  {
   "cell_type": "code",
   "execution_count": 36,
   "metadata": {},
   "outputs": [
    {
     "name": "stdout",
     "output_type": "stream",
     "text": [
      "Sum of Squared vales of devaition bvetween groups 604.5866666666666\n"
     ]
    }
   ],
   "source": [
    "sum_of_sq_dev_between_group= sum(sq_dev_between_group) # \" Sum method for add-on numerical list elements\"\n",
    "print(\"Sum of Squared vales of devaition bvetween groups\", sum_of_sq_dev_between_group)"
   ]
  },
  {
   "cell_type": "code",
   "execution_count": 38,
   "metadata": {},
   "outputs": [
    {
     "name": "stdout",
     "output_type": "stream",
     "text": [
      "Variation between groups 302.2933333333333\n"
     ]
    }
   ],
   "source": [
    "# Calculate the between Group variation\n",
    "\n",
    "# Note:  There are 3 groups and each group has 5 elements Thus\n",
    "each_group_sample_size=5\n",
    "no_of_groups=3\n",
    "#  degree of freedom = Total No. of groups -1\n",
    "degree_of_freedom_between_group= no_of_groups-1\n",
    "\n",
    "between_group_variation= sum_of_sq_dev_between_group / degree_of_freedom_between_group \n",
    "print(\"Variation between groups\",between_group_variation)"
   ]
  },
  {
   "cell_type": "code",
   "execution_count": 39,
   "metadata": {},
   "outputs": [
    {
     "name": "stdout",
     "output_type": "stream",
     "text": [
      "mean square between groups 1511.4666666666665\n"
     ]
    }
   ],
   "source": [
    "\n",
    "# Mean sqaure betwen groups has been takes as product of variation between gropus and sample size of each group\n",
    "mean_Square_Between_groups =between_group_variation *each_group_sample_size \n",
    "print(\"mean square between groups\",mean_Square_Between_groups)"
   ]
  },
  {
   "cell_type": "code",
   "execution_count": 40,
   "metadata": {},
   "outputs": [
    {
     "name": "stdout",
     "output_type": "stream",
     "text": [
      "sum-of-squares for between-group variability  3022.933333333333\n"
     ]
    }
   ],
   "source": [
    "# Sum of sqaure betwen groups has been takes as product of Mean sqaure betwen groups and The degree of freedom between groups\n",
    "\n",
    "sum_of_Squares_Between_groups = mean_Square_Between_groups* degree_of_freedom_between_group\n",
    "print(\"sum-of-squares for between-group variability \",sum_of_Squares_Between_groups)"
   ]
  },
  {
   "cell_type": "code",
   "execution_count": null,
   "metadata": {},
   "outputs": [],
   "source": [
    "# Stage -4 : Within-group variation or Deveiation betwee group elements"
   ]
  },
  {
   "cell_type": "markdown",
   "metadata": {},
   "source": [
    "<b>Within-group variation</b>: It refers to variations caused by differences within individual groups (or levels) as not all the values within each group are the same. Each sample is looked at on its own and variability between the individual points in the sample is calculated. In other words, no interactions between samples are considered.\n",
    "\n",
    "Within-group variability by looking at how much each value in each sample differs from its respective sample mean.\n"
   ]
  },
  {
   "cell_type": "code",
   "execution_count": 41,
   "metadata": {},
   "outputs": [
    {
     "name": "stdout",
     "output_type": "stream",
     "text": [
      " Deviation with-in group 1: [-2.8, 3.2, 15.2, 3.2, -18.8]\n",
      " Deviation with-in group 2: [12.4, -7.6, 12.4, -7.6, -9.6]\n",
      " Deviation with-in group 2: [13.8, -6.2, -4.2, -17.2, 13.8]\n"
     ]
    }
   ],
   "source": [
    "# Calculate Within-group variation\n",
    "\n",
    "# stpe-1 : deviation wihin group: calculation done as difference between  mean of individual group and each group elements\n",
    "\n",
    "dev_within_group_1 = [round((mean_group_1-x),3) for x in group_1]\n",
    "dev_within_group_2 = [round((mean_group_2-x),3) for x in group_2]\n",
    "dev_within_group_3 = [round((mean_group_3-x),3) for x in group_3]\n",
    "\n",
    "\n",
    "print(\" Deviation with-in group 1:\",dev_within_group_1)\n",
    "print(\" Deviation with-in group 2:\",dev_within_group_2)\n",
    "print(\" Deviation with-in group 2:\",dev_within_group_3)\n"
   ]
  },
  {
   "cell_type": "code",
   "execution_count": 44,
   "metadata": {},
   "outputs": [
    {
     "name": "stdout",
     "output_type": "stream",
     "text": [
      " Square of Deviation with-in group 1: [7.84, 10.24, 231.04, 10.24, 353.44]\n",
      " Square of Deviation with-in group 2: [153.76, 57.76, 153.76, 57.76, 92.16]\n",
      " Square of Deviation with-in group 3: [190.44, 38.44, 17.64, 295.84, 190.44]\n"
     ]
    }
   ],
   "source": [
    "# step -2  square deviation with group\n",
    "\n",
    "sq_dev_within_group_1 = [round(x**2,3) for x in dev_within_group_1]\n",
    "sq_dev_within_group_2 = [round(x**2,3) for x in dev_within_group_2]\n",
    "sq_dev_within_group_3 = [round(x**2,3) for x in dev_within_group_3]\n",
    "\n",
    "print(\" Square of Deviation with-in group 1:\",sq_dev_within_group_1)\n",
    "print(\" Square of Deviation with-in group 2:\",sq_dev_within_group_2)\n",
    "print(\" Square of Deviation with-in group 3:\",sq_dev_within_group_3)"
   ]
  },
  {
   "cell_type": "code",
   "execution_count": 46,
   "metadata": {},
   "outputs": [
    {
     "name": "stdout",
     "output_type": "stream",
     "text": [
      " sum of  Squared Deviation  with-in group 1: 612.8\n",
      " sum of  Squared Deviation  with-in group 2: 515.2\n",
      " sum of  Squared Deviation  with-in group 3: 732.8\n"
     ]
    }
   ],
   "source": [
    "# step 3 sum of square deviation with in group\n",
    "\n",
    "sum_of_sq_dev_within_group_1 =round(sum(sq_dev_within_group_1),2)\n",
    "sum_of_sq_dev_within_group_2 =round(sum(sq_dev_within_group_2),2)\n",
    "sum_of_sq_dev_within_group_3 =round(sum(sq_dev_within_group_3),2)\n",
    "\n",
    "\n",
    "print(\" sum of  Squared Deviation  with-in group 1:\",sum_of_sq_dev_within_group_1)\n",
    "print(\" sum of  Squared Deviation  with-in group 2:\",sum_of_sq_dev_within_group_2)\n",
    "print(\" sum of  Squared Deviation  with-in group 3:\",sum_of_sq_dev_within_group_3)\n",
    "\n"
   ]
  },
  {
   "cell_type": "code",
   "execution_count": 47,
   "metadata": {},
   "outputs": [
    {
     "name": "stdout",
     "output_type": "stream",
     "text": [
      " Variation with in group 1: 153.2\n",
      " Variation with in group 2: 128.8\n",
      " Variation with in group 3: 183.2\n"
     ]
    }
   ],
   "source": [
    "# each group has 5 elements hence , length of gropu is 5 and degree of freedom is :\n",
    "\n",
    "No_of_elements_in_each_group=5\n",
    "degree_of_freedom_within_indvidual_grp =No_of_elements_in_each_group-1\n",
    "\n",
    "\n",
    "within_group_variation_grp1= sum_of_sq_dev_within_group_1/degree_of_freedom_within_indvidual_grp\n",
    "within_group_variation_grp2= sum_of_sq_dev_within_group_2/degree_of_freedom_within_indvidual_grp\n",
    "within_group_variation_grp3= sum_of_sq_dev_within_group_3/degree_of_freedom_within_indvidual_grp\n",
    "\n",
    "\n",
    "print(\" Variation with in group 1:\",within_group_variation_grp1)\n",
    "print(\" Variation with in group 2:\",within_group_variation_grp2)\n",
    "print(\" Variation with in group 3:\",within_group_variation_grp3)"
   ]
  },
  {
   "cell_type": "code",
   "execution_count": 48,
   "metadata": {},
   "outputs": [
    {
     "name": "stdout",
     "output_type": "stream",
     "text": [
      "Mean square with in group  155.06666666666666\n"
     ]
    }
   ],
   "source": [
    "\n",
    "# Mean sqaure with-in group has been calculated as mean of all with-in group variations\n",
    "\n",
    "mean_Square_within_groups = (within_group_variation_grp1+within_group_variation_grp2+within_group_variation_grp3)/ 3 # divide by 3 has been done there are total 3 with-in group variation\n",
    "print(\"Mean square with in group \",mean_Square_within_groups)"
   ]
  },
  {
   "cell_type": "code",
   "execution_count": 50,
   "metadata": {},
   "outputs": [
    {
     "name": "stdout",
     "output_type": "stream",
     "text": [
      "sum of squares for within-group variability: 1860.8\n"
     ]
    }
   ],
   "source": [
    "no_of_samples =3 # as 3 groups mentioned\n",
    "sum_of_length_of_grp = 5+5+5 # as each gropu has 5 elements\n",
    "\n",
    "# degree of freedom has been calculated as difference between total length of all groups/samples and no.of gropus /samples has been taken inot consideration\n",
    "degree_of_freedom_within_grp =sum_of_length_of_grp - no_of_samples\n",
    "\n",
    "# Sum of sqaures for with-in group has been calculated as product of Mean square with in group and degree of freedom with in group\n",
    "sum_of_Squares_within_groups = mean_Square_within_groups* (degree_of_freedom_within_grp)\n",
    "print(\"sum of squares for within-group variability:\",sum_of_Squares_within_groups)"
   ]
  },
  {
   "cell_type": "code",
   "execution_count": 54,
   "metadata": {},
   "outputs": [],
   "source": [
    "# Stage -5 Total variation : in Anova Test is , Sum of squares of with in group variability and between group variability"
   ]
  },
  {
   "cell_type": "code",
   "execution_count": 55,
   "metadata": {},
   "outputs": [
    {
     "name": "stdout",
     "output_type": "stream",
     "text": [
      "Total variation is  4883.733333333333\n"
     ]
    }
   ],
   "source": [
    "# Total Variation\n",
    "\n",
    "total_variation=  sum_of_Squares_Between_groups+sum_of_Squares_within_groups \n",
    "print(\"Total variation is \",total_variation)"
   ]
  },
  {
   "cell_type": "code",
   "execution_count": 56,
   "metadata": {},
   "outputs": [],
   "source": [
    "# Stage 6: F- test statistics : F = Between group variability / Within group variability"
   ]
  },
  {
   "cell_type": "code",
   "execution_count": 84,
   "metadata": {},
   "outputs": [
    {
     "name": "stdout",
     "output_type": "stream",
     "text": [
      "F-test statitics is 9.747205503009457\n"
     ]
    }
   ],
   "source": [
    "# F-Statistics \n",
    "\n",
    "F_test_Statistics=  mean_Square_Between_groups/mean_Square_within_groups\n",
    "print(\"F-test statitics is\", F_test_Statistics)"
   ]
  },
  {
   "cell_type": "code",
   "execution_count": 89,
   "metadata": {},
   "outputs": [
    {
     "name": "stdout",
     "output_type": "stream",
     "text": [
      "p-value is: 0.003059754143443061\n"
     ]
    }
   ],
   "source": [
    "# p- value Calculation \n",
    "import scipy.stats\n",
    "\n",
    "p_value = scipy.stats.f.sf(F_test_Statistics, 2, 12) #\" scipy.stats.f.sf() for p-value calcuateion based upon f-test statistics\"\n",
    "print(\"p-value is:\",p_value)"
   ]
  },
  {
   "cell_type": "code",
   "execution_count": 91,
   "metadata": {},
   "outputs": [
    {
     "name": "stdout",
     "output_type": "stream",
     "text": [
      "Degree of freedom between in group: 2\n",
      "Degree of freedom with in group: 12\n"
     ]
    }
   ],
   "source": [
    "# F-Critical \n",
    "\n",
    "print(\"Degree of freedom between in group:\",degree_of_freedom_between_group)\n",
    "\n",
    "print(\"Degree of freedom with in group:\",degree_of_freedom_within_grp)\n"
   ]
  },
  {
   "cell_type": "code",
   "execution_count": 92,
   "metadata": {},
   "outputs": [
    {
     "name": "stdout",
     "output_type": "stream",
     "text": [
      "F-critical is : 3.8852938346523933\n"
     ]
    }
   ],
   "source": [
    "import scipy.stats # Scipy.stats module for statistical calculation\n",
    "alpha = 0.05  \n",
    "\n",
    "F_critical = scipy.stats.f.ppf(1-alpha, 2 ,12)\n",
    "\n",
    "print(\"F-critical is :\",F_critical)"
   ]
  },
  {
   "cell_type": "markdown",
   "metadata": {},
   "source": [
    "<b>ANOVA Result</b> : Thus, F_test_Statistics > F_critical or 9.747205 > 3.88529, hence we reject null hypothesis that mean of samples are equal. Another way of examination is p-value for F-Stattistics is 0.003 which is less than alpha(level of significance=0.05), thus reject the null hypothesis"
   ]
  },
  {
   "cell_type": "markdown",
   "metadata": {},
   "source": [
    "Effect size, in ANOVA, is a value which results how much  independent variable (like: sum of sqauared between group variation) has affected the dependent variable (Total veriation between group) in an experimental study"
   ]
  },
  {
   "cell_type": "code",
   "execution_count": 93,
   "metadata": {},
   "outputs": [
    {
     "name": "stdout",
     "output_type": "stream",
     "text": [
      "Measure of effect size(η2): 0.61898001528885\n"
     ]
    }
   ],
   "source": [
    "# Effect size\n",
    "\n",
    "η2=sum_of_Squares_Between_groups/total_variation\n",
    "\n",
    "print(\"Measure of effect size(η2):\",η2)\n"
   ]
  },
  {
   "cell_type": "markdown",
   "metadata": {},
   "source": [
    "<b>APA writeup </b>\n",
    "\n",
    "F(2, 12)=9.75, p(0.003) <0.05, η2=0.62"
   ]
  },
  {
   "cell_type": "markdown",
   "metadata": {},
   "source": [
    "<b>ANOVA Table</b>"
   ]
  },
  {
   "cell_type": "markdown",
   "metadata": {},
   "source": [
    "<table>\n",
    "\n",
    "\n",
    "<tr>\n",
    "    <td><b>Source</b></td>\n",
    "    <td><b>SS(Sum of Suqared)</b></td>\n",
    "    <td><b>df(degree of freedom)</b></td>\n",
    "    <td><b>MS(Mean Squared)</b></td>\n",
    "    <td><b>F-Statistic</b></td>\n",
    "    <td><b>p-value</b></td>\n",
    "    <td><b>F-critical</b></td>\n",
    "    <td><b>α-alpha level</b></td>\n",
    "</tr>\n",
    "<tr>    \n",
    "    <td>Group( between group variation)</td>\n",
    "    <td>3022.9</td>\n",
    "    <td>2</td>\n",
    "    <td>1511.45</td>\n",
    "    <td>9.75</td>\n",
    "    <td>0.003</td>\n",
    "    <td>3.885</td>\n",
    "    <td>0.05</td>\n",
    "</tr>\n",
    " <tr>\n",
    "    <td>Error( with-in group variation)</td>\n",
    "    <td>1860.8</td>\n",
    "    <td>12</td>\n",
    "    <td>155.07</td>\n",
    " </tr>\n",
    " <tr>\n",
    "    <td>Total</td>\n",
    "    <td>4883.7</td>\n",
    " </tr>\n",
    "</table>"
   ]
  },
  {
   "cell_type": "markdown",
   "metadata": {},
   "source": [
    "-----------------------------------------------------------------------------------------------------------------------------"
   ]
  },
  {
   "cell_type": "markdown",
   "metadata": {},
   "source": [
    "<b> Problem Statement 3: </b>\n",
    "Calculate F Test for given 10, 20, 30, 40, 50 and 5,10,15, 20, 25.\n",
    "\n",
    "For 10, 20, 30, 40, 50:"
   ]
  },
  {
   "cell_type": "code",
   "execution_count": 94,
   "metadata": {},
   "outputs": [],
   "source": [
    "# Solution "
   ]
  },
  {
   "cell_type": "markdown",
   "metadata": {},
   "source": [
    "Definition : F-Test is a test statistic which has an F-distribution under the null hypothesis is called an F test. It is used to compare statistical models as per the data set provided or available.\n",
    "F Test is generally defined as ratio of the variances of the given two set of values.\n",
    "\n",
    "Formula : F-test \n",
    "\n",
    "F Value = <b>variance1 / variance2 = σ1<sup> 2</sup> /σ2<sup> 2</sup></b>\n",
    "\n",
    "\n",
    "where :\n",
    "σ<sup>2</sup>  = variance = square of standard devaition of values\n"
   ]
  },
  {
   "cell_type": "code",
   "execution_count": 95,
   "metadata": {},
   "outputs": [],
   "source": [
    "# Let's gather the data \n",
    "list_1= [10, 20, 30, 40, 50]  # temp list\n",
    "list_2= [5,10,15, 20, 25] # temp list\n"
   ]
  },
  {
   "cell_type": "code",
   "execution_count": 96,
   "metadata": {},
   "outputs": [
    {
     "name": "stdout",
     "output_type": "stream",
     "text": [
      "Input data\n"
     ]
    },
    {
     "data": {
      "text/plain": [
       "(array([10, 20, 30, 40, 50]), array([ 5, 10, 15, 20, 25]))"
      ]
     },
     "execution_count": 96,
     "metadata": {},
     "output_type": "execute_result"
    }
   ],
   "source": [
    "# convert lists into array using numpy module\n",
    "\n",
    "import numpy as np\n",
    "\n",
    "array_1=np.array(list_1)\n",
    "array_2=np.array(list_2)\n",
    "print(\"Input data\")\n",
    "array_1,array_2"
   ]
  },
  {
   "cell_type": "code",
   "execution_count": 98,
   "metadata": {},
   "outputs": [
    {
     "name": "stdout",
     "output_type": "stream",
     "text": [
      "Variance for [10, 20, 30, 40, 50] is :  250\n",
      "Variance for [ 5, 10, 15, 20, 25] is:   62\n"
     ]
    }
   ],
   "source": [
    "# immport staticsc module for variance analysis\n",
    "\n",
    "import statistics  \n",
    "\n",
    "variance_1=statistics.variance(array_1)\n",
    "variance_2=statistics.variance(array_2)\n",
    "print(\"Variance for [10, 20, 30, 40, 50] is : \",variance_1)\n",
    "print(\"Variance for [ 5, 10, 15, 20, 25] is:  \",variance_2)\n"
   ]
  },
  {
   "cell_type": "code",
   "execution_count": 99,
   "metadata": {},
   "outputs": [
    {
     "name": "stdout",
     "output_type": "stream",
     "text": [
      "Output\n",
      "F-Test value is : 4.0\n"
     ]
    }
   ],
   "source": [
    "# F-test calculation\n",
    "F_Test= variance_1/variance_2\n",
    "print(\"Output\")\n",
    "print(\"F-Test value is :\",round(F_Test))  # round function to get the values till the decimal point"
   ]
  },
  {
   "cell_type": "code",
   "execution_count": 100,
   "metadata": {},
   "outputs": [
    {
     "name": "stdout",
     "output_type": "stream",
     "text": [
      "F-Test value is : 4.0\n",
      "p-value from the F-distribution : 0.094\n"
     ]
    }
   ],
   "source": [
    "# F-test Calculate with it's p-value using  scipy.stats.f_oneway\n",
    "\n",
    "import scipy.stats\n",
    "F_Test_oneway , p_value = scipy.stats.f_oneway(array_1,array_2)\n",
    "print(\"F-Test value is :\",round(F_Test_oneway))\n",
    "print(\"p-value from the F-distribution :\",round(p_value,3))"
   ]
  }
 ],
 "metadata": {
  "kernelspec": {
   "display_name": "Python 3",
   "language": "python",
   "name": "python3"
  },
  "language_info": {
   "codemirror_mode": {
    "name": "ipython",
    "version": 3
   },
   "file_extension": ".py",
   "mimetype": "text/x-python",
   "name": "python",
   "nbconvert_exporter": "python",
   "pygments_lexer": "ipython3",
   "version": "3.8.8"
  }
 },
 "nbformat": 4,
 "nbformat_minor": 2
}
